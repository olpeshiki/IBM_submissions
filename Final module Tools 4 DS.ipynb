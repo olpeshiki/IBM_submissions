{
 "cells": [
  {
   "cell_type": "markdown",
   "metadata": {
    "collapsed": true
   },
   "source": [
    "# My Jupyter Notebook on IBM Watson Studio"
   ]
  },
  {
   "cell_type": "markdown",
   "metadata": {},
   "source": [
    "**Olga Ikisheva**\n",
    "<br> Data Analyst </br>"
   ]
  },
  {
   "cell_type": "markdown",
   "metadata": {},
   "source": [
    "*Data Science is important because it can help organizations make better decisions by uncovering patterns, trends, and insights that may not be apparent with traditional methods of analysis. It is also a highly interdisciplinary field, drawing on expertise from computer science, mathematics, statistics, and domain-specific knowledge to create meaningful solutions.*"
   ]
  },
  {
   "cell_type": "markdown",
   "metadata": {},
   "source": [
    "### My code will print \"Hello world!\""
   ]
  },
  {
   "cell_type": "code",
   "execution_count": 1,
   "metadata": {},
   "outputs": [
    {
     "name": "stdout",
     "output_type": "stream",
     "text": [
      "Hello world!\n"
     ]
    }
   ],
   "source": [
    "print ('Hello world!')"
   ]
  },
  {
   "cell_type": "markdown",
   "metadata": {},
   "source": [
    "***\n",
    "My important list\n",
    "***\n",
    "* bullet point 1\n",
    "* bullet point 2\n",
    "* bullet point 3\n",
    "\n",
    "<br> **Now comes my numbered list** </br>\n",
    "1. order list 1\n",
    "2. order list 2\n",
    "3. order list 3\n",
    " \n",
    "<br> Thanks to this link I could do the lab, course did not mentioned a thing</br>\n",
    "<a href=https://www.earthdatascience.org/courses/intro-to-earth-data-science/file-formats/use-text-files/format-text-with-markdown-jupyter-notebook/ target=\"_blank\">link to proper advise</a>\n",
    "\n",
    "`print('This is some code')`\n",
    "\n",
    "<br> ~Striked text~ </br>"
   ]
  }
 ],
 "metadata": {
  "kernelspec": {
   "display_name": "Python 3.10",
   "language": "python",
   "name": "python3"
  },
  "language_info": {
   "codemirror_mode": {
    "name": "ipython",
    "version": 3
   },
   "file_extension": ".py",
   "mimetype": "text/x-python",
   "name": "python",
   "nbconvert_exporter": "python",
   "pygments_lexer": "ipython3",
   "version": "3.10.9"
  }
 },
 "nbformat": 4,
 "nbformat_minor": 1
}
